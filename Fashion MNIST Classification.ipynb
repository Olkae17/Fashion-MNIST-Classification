{
 "cells": [
  {
   "cell_type": "markdown",
   "id": "be695e72-360d-4491-afbc-31e01cbec3fe",
   "metadata": {},
   "source": [
    "## Importing necessary libraries"
   ]
  },
  {
   "cell_type": "code",
   "execution_count": 1,
   "id": "1f9fc260-5d62-4c38-b28c-e13f717e9304",
   "metadata": {},
   "outputs": [],
   "source": [
    "import numpy as np\n",
    "import matplotlib.pyplot as plt\n",
    "from tensorflow import keras\n",
    "from tensorflow.keras import layers\n",
    "from tensorflow.keras.models import Sequential"
   ]
  },
  {
   "cell_type": "markdown",
   "id": "9b049e90-efc9-4a4b-ba4e-d5a9bf23fdac",
   "metadata": {},
   "source": [
    "## Loading the Fashion MNIST dataset"
   ]
  },
  {
   "cell_type": "code",
   "execution_count": 2,
   "id": "22a3bb77-4934-479c-9acc-8e30fc092306",
   "metadata": {},
   "outputs": [],
   "source": [
    "(x_train, y_train), (x_test, y_test) = keras.datasets.fashion_mnist.load_data()"
   ]
  },
  {
   "cell_type": "markdown",
   "id": "f21e3c39-a5c1-4ae0-b903-5211666b61c5",
   "metadata": {},
   "source": [
    "## Preprocessing the data"
   ]
  },
  {
   "cell_type": "markdown",
   "id": "e9f49216-e780-49cd-ac5a-a5a9429d154d",
   "metadata": {},
   "source": [
    "### Normalizing pixel values to be between 0 and 1"
   ]
  },
  {
   "cell_type": "code",
   "execution_count": 3,
   "id": "2109ea1c-dba4-432b-8fca-a71bb0c5066d",
   "metadata": {},
   "outputs": [],
   "source": [
    "x_train = x_train.astype(\"float32\") / 255\n",
    "x_test = x_test.astype(\"float32\") / 255"
   ]
  },
  {
   "cell_type": "markdown",
   "id": "d93cae1a-afe7-4373-a13c-7dc7e426725d",
   "metadata": {},
   "source": [
    "### Adding a channel dimension (required for CNN)"
   ]
  },
  {
   "cell_type": "code",
   "execution_count": 4,
   "id": "56f48a3f-089c-4ad9-8d82-69243ff04cbd",
   "metadata": {},
   "outputs": [],
   "source": [
    "x_train = np.expand_dims(x_train, -1)\n",
    "x_test = np.expand_dims(x_test, -1)"
   ]
  },
  {
   "cell_type": "markdown",
   "id": "5d057859-9df0-41b9-97df-f971f459dd32",
   "metadata": {},
   "source": [
    "### Converting class vectors to binary class matrices (one-hot encoding)"
   ]
  },
  {
   "cell_type": "code",
   "execution_count": 5,
   "id": "ec64c042-dee4-4fcb-9dec-cc7c3e2c53d3",
   "metadata": {},
   "outputs": [],
   "source": [
    "num_classes = 10\n",
    "y_train = keras.utils.to_categorical(y_train, num_classes)\n",
    "y_test = keras.utils.to_categorical(y_test, num_classes)"
   ]
  },
  {
   "cell_type": "markdown",
   "id": "be75c188-5d51-4085-b111-b541d9195060",
   "metadata": {},
   "source": [
    "## Defining the CNN model with 6 layers"
   ]
  },
  {
   "cell_type": "code",
   "execution_count": 7,
   "id": "b5a1e66e-7249-4f51-b45b-6c503e18672d",
   "metadata": {},
   "outputs": [],
   "source": [
    "model = Sequential([\n",
    "    # First convolutional layer\n",
    "    layers.Conv2D(32, kernel_size=(3, 3), activation=\"relu\", input_shape=(28, 28, 1)),\n",
    "    layers.MaxPooling2D(pool_size=(2, 2)),\n",
    "    \n",
    "    # Second convolutional layer\n",
    "    layers.Conv2D(64, kernel_size=(3, 3), activation=\"relu\"),\n",
    "    layers.MaxPooling2D(pool_size=(2, 2)),\n",
    "    \n",
    "    # Flatten the output for dense layers\n",
    "    layers.Flatten(),\n",
    "    \n",
    "    # First dense layer\n",
    "    layers.Dense(128, activation=\"relu\"),\n",
    "    \n",
    "    # Output layer\n",
    "    layers.Dense(num_classes, activation=\"softmax\")\n",
    "])"
   ]
  },
  {
   "cell_type": "markdown",
   "id": "6f15f7da-10dc-4152-ac33-a5605def8efc",
   "metadata": {},
   "source": [
    "## Compiling the model"
   ]
  },
  {
   "cell_type": "code",
   "execution_count": 8,
   "id": "7410652d-2125-4101-8da5-9e1e92b3db4e",
   "metadata": {},
   "outputs": [],
   "source": [
    "model.compile(loss=\"categorical_crossentropy\", optimizer=\"adam\", metrics=[\"accuracy\"])"
   ]
  },
  {
   "cell_type": "markdown",
   "id": "871c8487-90d1-4191-951b-92cff0f9262e",
   "metadata": {},
   "source": [
    "## Training the model"
   ]
  },
  {
   "cell_type": "code",
   "execution_count": 10,
   "id": "ea6196c9-ee0e-43ec-84d0-131356f36366",
   "metadata": {},
   "outputs": [
    {
     "name": "stdout",
     "output_type": "stream",
     "text": [
      "Epoch 1/15\n",
      "\u001b[1m422/422\u001b[0m \u001b[32m━━━━━━━━━━━━━━━━━━━━\u001b[0m\u001b[37m\u001b[0m \u001b[1m29s\u001b[0m 64ms/step - accuracy: 0.7192 - loss: 0.8125 - val_accuracy: 0.8638 - val_loss: 0.3730\n",
      "Epoch 2/15\n",
      "\u001b[1m422/422\u001b[0m \u001b[32m━━━━━━━━━━━━━━━━━━━━\u001b[0m\u001b[37m\u001b[0m \u001b[1m25s\u001b[0m 59ms/step - accuracy: 0.8732 - loss: 0.3534 - val_accuracy: 0.8828 - val_loss: 0.3305\n",
      "Epoch 3/15\n",
      "\u001b[1m422/422\u001b[0m \u001b[32m━━━━━━━━━━━━━━━━━━━━\u001b[0m\u001b[37m\u001b[0m \u001b[1m25s\u001b[0m 60ms/step - accuracy: 0.8888 - loss: 0.3058 - val_accuracy: 0.8935 - val_loss: 0.2992\n",
      "Epoch 4/15\n",
      "\u001b[1m422/422\u001b[0m \u001b[32m━━━━━━━━━━━━━━━━━━━━\u001b[0m\u001b[37m\u001b[0m \u001b[1m25s\u001b[0m 58ms/step - accuracy: 0.9001 - loss: 0.2754 - val_accuracy: 0.8993 - val_loss: 0.2809\n",
      "Epoch 5/15\n",
      "\u001b[1m422/422\u001b[0m \u001b[32m━━━━━━━━━━━━━━━━━━━━\u001b[0m\u001b[37m\u001b[0m \u001b[1m30s\u001b[0m 71ms/step - accuracy: 0.9086 - loss: 0.2514 - val_accuracy: 0.9038 - val_loss: 0.2740\n",
      "Epoch 6/15\n",
      "\u001b[1m422/422\u001b[0m \u001b[32m━━━━━━━━━━━━━━━━━━━━\u001b[0m\u001b[37m\u001b[0m \u001b[1m28s\u001b[0m 67ms/step - accuracy: 0.9142 - loss: 0.2323 - val_accuracy: 0.9078 - val_loss: 0.2608\n",
      "Epoch 7/15\n",
      "\u001b[1m422/422\u001b[0m \u001b[32m━━━━━━━━━━━━━━━━━━━━\u001b[0m\u001b[37m\u001b[0m \u001b[1m27s\u001b[0m 64ms/step - accuracy: 0.9225 - loss: 0.2143 - val_accuracy: 0.9080 - val_loss: 0.2555\n",
      "Epoch 8/15\n",
      "\u001b[1m422/422\u001b[0m \u001b[32m━━━━━━━━━━━━━━━━━━━━\u001b[0m\u001b[37m\u001b[0m \u001b[1m38s\u001b[0m 57ms/step - accuracy: 0.9242 - loss: 0.2025 - val_accuracy: 0.9103 - val_loss: 0.2516\n",
      "Epoch 9/15\n",
      "\u001b[1m422/422\u001b[0m \u001b[32m━━━━━━━━━━━━━━━━━━━━\u001b[0m\u001b[37m\u001b[0m \u001b[1m24s\u001b[0m 58ms/step - accuracy: 0.9310 - loss: 0.1869 - val_accuracy: 0.9108 - val_loss: 0.2443\n",
      "Epoch 10/15\n",
      "\u001b[1m422/422\u001b[0m \u001b[32m━━━━━━━━━━━━━━━━━━━━\u001b[0m\u001b[37m\u001b[0m \u001b[1m27s\u001b[0m 63ms/step - accuracy: 0.9370 - loss: 0.1726 - val_accuracy: 0.9137 - val_loss: 0.2511\n",
      "Epoch 11/15\n",
      "\u001b[1m422/422\u001b[0m \u001b[32m━━━━━━━━━━━━━━━━━━━━\u001b[0m\u001b[37m\u001b[0m \u001b[1m30s\u001b[0m 70ms/step - accuracy: 0.9413 - loss: 0.1594 - val_accuracy: 0.9105 - val_loss: 0.2482\n",
      "Epoch 12/15\n",
      "\u001b[1m422/422\u001b[0m \u001b[32m━━━━━━━━━━━━━━━━━━━━\u001b[0m\u001b[37m\u001b[0m \u001b[1m29s\u001b[0m 70ms/step - accuracy: 0.9453 - loss: 0.1507 - val_accuracy: 0.9152 - val_loss: 0.2380\n",
      "Epoch 13/15\n",
      "\u001b[1m422/422\u001b[0m \u001b[32m━━━━━━━━━━━━━━━━━━━━\u001b[0m\u001b[37m\u001b[0m \u001b[1m28s\u001b[0m 67ms/step - accuracy: 0.9530 - loss: 0.1325 - val_accuracy: 0.9075 - val_loss: 0.2783\n",
      "Epoch 14/15\n",
      "\u001b[1m422/422\u001b[0m \u001b[32m━━━━━━━━━━━━━━━━━━━━\u001b[0m\u001b[37m\u001b[0m \u001b[1m28s\u001b[0m 67ms/step - accuracy: 0.9540 - loss: 0.1240 - val_accuracy: 0.9132 - val_loss: 0.2622\n",
      "Epoch 15/15\n",
      "\u001b[1m422/422\u001b[0m \u001b[32m━━━━━━━━━━━━━━━━━━━━\u001b[0m\u001b[37m\u001b[0m \u001b[1m28s\u001b[0m 67ms/step - accuracy: 0.9622 - loss: 0.1067 - val_accuracy: 0.9193 - val_loss: 0.2618\n"
     ]
    }
   ],
   "source": [
    "batch_size = 128\n",
    "epochs = 15\n",
    "history = model.fit(x_train, y_train, batch_size=batch_size, epochs=epochs, validation_split=0.1)"
   ]
  },
  {
   "cell_type": "markdown",
   "id": "1b9d379d-f1fd-4555-bd0d-9f310570feff",
   "metadata": {},
   "source": [
    "## Evaluating the model on test data"
   ]
  },
  {
   "cell_type": "code",
   "execution_count": 11,
   "id": "2b61e637-6848-4d51-8788-b4301bbb8c8f",
   "metadata": {},
   "outputs": [
    {
     "name": "stdout",
     "output_type": "stream",
     "text": [
      "Test loss: 0.2692655026912689\n",
      "Test accuracy: 0.9139999747276306\n"
     ]
    }
   ],
   "source": [
    "score = model.evaluate(x_test, y_test, verbose=0)\n",
    "print(\"Test loss:\", score[0])\n",
    "print(\"Test accuracy:\", score[1])"
   ]
  },
  {
   "cell_type": "markdown",
   "id": "aa4ef328-4304-4808-a10c-d3a36a155f39",
   "metadata": {},
   "source": [
    "## Making predictions on sample images"
   ]
  },
  {
   "cell_type": "code",
   "execution_count": 15,
   "id": "49813b1f-8dca-4e42-a6e9-9154a15d470c",
   "metadata": {},
   "outputs": [
    {
     "name": "stdout",
     "output_type": "stream",
     "text": [
      "\u001b[1m1/1\u001b[0m \u001b[32m━━━━━━━━━━━━━━━━━━━━\u001b[0m\u001b[37m\u001b[0m \u001b[1m0s\u001b[0m 221ms/step\n"
     ]
    },
    {
     "data": {
      "image/png": "[encoded data removed]",
      "text/plain": [
       "<Figure size 1000x500 with 2 Axes>"
      ]
     },
     "metadata": {},
     "output_type": "display_data"
    }
   ],
   "source": [
    "# Let's select two images from the test set\n",
    "sample_images = x_test[:2]\n",
    "sample_labels = y_test[:2]\n",
    "\n",
    "# Get model predictions\n",
    "predictions = model.predict(sample_images)\n",
    "\n",
    "# Class names for Fashion MNIST\n",
    "class_names = ['T-shirt/top', 'Trouser', 'Pullover', 'Dress', 'Coat',\n",
    "               'Sandal', 'Shirt', 'Sneaker', 'Bag', 'Ankle boot']\n",
    "\n",
    "# Display the images and predictions\n",
    "plt.figure(figsize=(10, 5))\n",
    "for i in range(2):\n",
    "    plt.subplot(1, 2, i+1)\n",
    "    plt.imshow(sample_images[i].squeeze(), cmap='gray')\n",
    "    predicted_class = np.argmax(predictions[i])\n",
    "    true_class = np.argmax(sample_labels[i])\n",
    "    plt.title(f\"Pred: {class_names[predicted_class]}\\nTrue: {class_names[true_class]}\")\n",
    "    plt.axis('off')\n",
    "plt.show()\n",
    "\n",
    "# Save the model\n",
    "model.save(\"fashion_mnist_cnn.keras\")\n"
   ]
  },
  {
   "cell_type": "code",
   "execution_count": null,
   "id": "9e22a4c2-4107-40fa-9b85-c60281c05b3f",
   "metadata": {},
   "outputs": [],
   "source": []
  }
 ],
 "metadata": {
  "kernelspec": {
   "display_name": "Python 3 (ipykernel)",
   "language": "python",
   "name": "python3"
  },
  "language_info": {
   "codemirror_mode": {
    "name": "ipython",
    "version": 3
   },
   "file_extension": ".py",
   "mimetype": "text/x-python",
   "name": "python",
   "nbconvert_exporter": "python",
   "pygments_lexer": "ipython3",
   "version": "3.12.7"
  }
 },
 "nbformat": 4,
 "nbformat_minor": 5
}
